{
 "cells": [
  {
   "cell_type": "code",
   "execution_count": 2,
   "id": "19225e90",
   "metadata": {},
   "outputs": [],
   "source": [
    "import ee\n",
    "import numpy as np\n",
    "import pandas as pd\n",
    "import matplotlib.pyplot as plt\n",
    "import time\n",
    "import geemap\n",
    "import os\n",
    "\n",
    "ee.Initialize()"
   ]
  },
  {
   "cell_type": "code",
   "execution_count": null,
   "id": "4fd79089",
   "metadata": {},
   "outputs": [],
   "source": [
    "def p2r(point, area_size = 100, field_size = 20):\n",
    "    dist_lat = abs(area_size / 110.540)/1000\n",
    "    dist_lon = abs(area_size / (111.320 * np.cos(point[0])))/1000\n",
    "    area = {\"type\": \"FeatureCollection\", \"features\": [{\"type\": \"Feature\", \"properties\": {},\"geometry\": {\"type\": \"Polygon\", \"coordinates\": [[[point[0] - dist_lon/2, point[1] - dist_lat/2], [point[0] + dist_lon/2, point[1] - dist_lat/2], [point[0] + dist_lon/2, point[1] + dist_lat/2], [point[0] - dist_lon/2, point[1] + dist_lat/2], [point[0] - dist_lon/2, point[1] - dist_lat/2]]]}}]}\n",
    "    dist_lat = abs(field_size / 110.540)/1000\n",
    "    dist_lon = abs(field_size / (111.320 * np.cos(point[0])))/1000\n",
    "    soccer={\"type\": \"FeatureCollection\", \"features\": [{\"type\": \"Feature\", \"properties\": {}, \"geometry\": {\"type\": \"Polygon\", \"coordinates\": [[[point[0] - dist_lon/2, point[1] - dist_lat/2], [point[0] + dist_lon/2, point[1] - dist_lat/2], [point[0] + dist_lon/2, point[1] + dist_lat/2], [point[0] - dist_lon/2,point[1] + dist_lat/2], [point[0] - dist_lon/2, point[1] - dist_lat/2]]]}}]}\n",
    "    coords_area = area['features'][0]['geometry']['coordinates']\n",
    "    aoi_area = ee.Geometry.Polygon(coords_area)\n",
    "    coords_soccer = soccer['features'][0]['geometry']['coordinates']\n",
    "    aoi_soccer = ee.Geometry.Polygon(coords_soccer)\n",
    "    return(aoi_area, aoi_soccer)\n",
    "\n",
    "aoi_area, aoi_soccer = p2r([-1.0188, 6.6090])"
   ]
  },
  {
   "cell_type": "markdown",
   "id": "61e2aeea",
   "metadata": {},
   "source": [
    "## or"
   ]
  },
  {
   "cell_type": "code",
   "execution_count": null,
   "id": "ee906b06",
   "metadata": {},
   "outputs": [],
   "source": [
    "geoJSON = {\n",
    "  \"type\": \"FeatureCollection\",\n",
    "  \"features\": [\n",
    "    {\n",
    "      \"type\": \"Feature\",\n",
    "      \"properties\": {},\n",
    "      \"geometry\": {\n",
    "        \"type\": \"Polygon\",\n",
    "        \"coordinates\": [\n",
    "          [\n",
    "            [\n",
    "              22.91147232055664,\n",
    "              40.72293316385307\n",
    "            ],\n",
    "            [\n",
    "              22.925033569335938,\n",
    "              40.72293316385307\n",
    "            ],\n",
    "            [\n",
    "              22.925033569335938,\n",
    "              40.73412061435751\n",
    "            ],\n",
    "            [\n",
    "              22.91147232055664,\n",
    "              40.73412061435751\n",
    "            ],\n",
    "            [\n",
    "              22.91147232055664,\n",
    "              40.72293316385307\n",
    "            ]\n",
    "          ]\n",
    "        ]\n",
    "      }\n",
    "    }\n",
    "  ]\n",
    "}\n",
    "\n",
    "coords = geoJSON['features'][0]['geometry']['coordinates']\n",
    "aoi_area = ee.Geometry.Polygon(coords)"
   ]
  },
  {
   "cell_type": "markdown",
   "id": "5ae530c9",
   "metadata": {},
   "source": [
    "## Image"
   ]
  },
  {
   "cell_type": "code",
   "execution_count": null,
   "id": "9d316b8d",
   "metadata": {},
   "outputs": [],
   "source": [
    "image = ee.ImageCollection(\"ECMWF/ERA5/MONTHLY\").filterDate(ee.Date(date_start),ee.Date(date_stop)).first()\n",
    "out_dir = os.path.join(os.path.expanduser('~'), 'Downloads')\n",
    "filename = os.path.join(out_dir, 'DailyP.tif')\n",
    "geemap.ee_export_image(image, filename=filename, scale=90, region=aoi_area, file_per_band=True)"
   ]
  },
  {
   "cell_type": "markdown",
   "id": "c27b668c",
   "metadata": {},
   "source": [
    "## Image collection"
   ]
  },
  {
   "cell_type": "code",
   "execution_count": 16,
   "id": "68a1f99b",
   "metadata": {},
   "outputs": [],
   "source": [
    "collection = ee.ImageCollection('UCSB-CHG/CHIRPS/DAILY').filterDate(ee.Date(date_start),ee.Date(date_stop))\n",
    "# collection = ee.ImageCollection(\"ECMWF/ERA5/MONTHLY\").filterDate(ee.Date(date_start),ee.Date(date_stop)).select('mean_2m_air_temperature')\n",
    "out_dir_col = os.path.join(os.path.expanduser('~'), 'Downloads')\n",
    "geemap.ee_export_image_collection(collection, region=aoi_area, scale=90, out_dir=out_dir_col)"
   ]
  }
 ],
 "metadata": {
  "kernelspec": {
   "display_name": "Python 3 (ipykernel)",
   "language": "python",
   "name": "python3"
  },
  "language_info": {
   "codemirror_mode": {
    "name": "ipython",
    "version": 3
   },
   "file_extension": ".py",
   "mimetype": "text/x-python",
   "name": "python",
   "nbconvert_exporter": "python",
   "pygments_lexer": "ipython3",
   "version": "3.7.10"
  }
 },
 "nbformat": 4,
 "nbformat_minor": 5
}
