{
 "cells": [
  {
   "cell_type": "code",
   "execution_count": 2,
   "metadata": {},
   "outputs": [],
   "source": [
    "import os\n",
    "import ee\n",
    "import geemap\n",
    "from ipyleaflet import Map, basemaps, WidgetControl, Marker, projections\n",
    "import json\n",
    "import geopandas as gpd\n",
    "import ee\n",
    "import folium\n",
    "import numpy as np\n",
    "ee.Initialize()"
   ]
  },
  {
   "cell_type": "code",
   "execution_count": 3,
   "metadata": {},
   "outputs": [],
   "source": [
    "area = {\n",
    "  \"type\": \"FeatureCollection\",\n",
    "  \"features\": [\n",
    "    {\n",
    "      \"type\": \"Feature\",\n",
    "      \"properties\": {},\n",
    "      \"geometry\": {\n",
    "        \"type\": \"Polygon\",\n",
    "        \"coordinates\": [\n",
    "          [\n",
    "            [\n",
    "              21.679458618164062,\n",
    "              40.41375745020255\n",
    "            ],\n",
    "            [\n",
    "              21.83704376220703,\n",
    "              40.41375745020255\n",
    "            ],\n",
    "            [\n",
    "              21.83704376220703,\n",
    "              40.52032411158934\n",
    "            ],\n",
    "            [\n",
    "              21.679458618164062,\n",
    "              40.52032411158934\n",
    "            ],\n",
    "            [\n",
    "              21.679458618164062,\n",
    "              40.41375745020255\n",
    "            ]\n",
    "          ]\n",
    "        ]\n",
    "      }\n",
    "    }\n",
    "  ]\n",
    "}\n",
    "\n",
    "coords_area = area['features'][0]['geometry']['coordinates']\n",
    "aoi_area = ee.Geometry.Polygon(coords_area)\n",
    "\n",
    "station = [5.5730222, -0.24447074]"
   ]
  },
  {
   "cell_type": "code",
   "execution_count": 4,
   "metadata": {},
   "outputs": [
    {
     "data": {
      "application/vnd.jupyter.widget-view+json": {
       "model_id": "cf469ba2888a4da59a1c51477db9a1f1",
       "version_major": 2,
       "version_minor": 0
      },
      "text/plain": [
       "Map(center=[41, 23], controls=(WidgetControl(options=['position', 'transparent_bg'], widget=HBox(children=(Tog…"
      ]
     },
     "metadata": {},
     "output_type": "display_data"
    }
   ],
   "source": [
    "m = geemap.Map(zoom_start=6)\n",
    "m.setCenter(23, 41)\n",
    "\n",
    "#Load the SRTM image.\n",
    "srtm = ee.Image('USGS/SRTMGL1_003');\n",
    "\n",
    "#Apply slope algorithm to an image.\n",
    "slope = ee.Terrain.slope(srtm);\n",
    "sinImage = slope.divide(180).multiply(np.pi).sin();\n",
    "\n",
    "visualization_params = {min: 0, max: 10000, 'palette': [\n",
    "    '3ae237', 'b5e22e', 'd6e21f', 'fff705', 'ffd611', 'ffb613', 'ff8b13',\n",
    "    'ff6e08', 'ff500d', 'ff0000', 'de0101', 'c21301', '0602ff', '235cb1',\n",
    "    '307ef3', '269db1', '30c8e2', '32d3ef', '3be285', '3ff38f', '86e26f'\n",
    "  ],};\n",
    "\n",
    "m.addLayer(slope.select(0), visualization_params)\n",
    "\n",
    "# marker = Marker(location=(40.9, 22.3), draggable=True)\n",
    "# m.add_layer(marker);\n",
    "\n",
    "m"
   ]
  },
  {
   "cell_type": "code",
   "execution_count": 9,
   "metadata": {},
   "outputs": [
    {
     "name": "stdout",
     "output_type": "stream",
     "text": [
      "X: 40\n",
      "Y: 23\n",
      "Slope (%): 1.0074855089187622\n"
     ]
    }
   ],
   "source": [
    "x = float(input('X: '))\n",
    "y = float(input('Y: '))\n",
    "xy = ee.Geometry.Point([x, y])\n",
    "slope = slope.sample(xy, 30).first().get('slope').getInfo()\n",
    "\n",
    "print('Slope (%):', slope)"
   ]
  },
  {
   "cell_type": "code",
   "execution_count": 23,
   "metadata": {},
   "outputs": [],
   "source": [
    "taskToexport = ee.batch.Export.image.toDrive(\n",
    "        image = srtm,             \n",
    "        region = aoi_area.bounds().getInfo()['coordinates'],\n",
    "        description = 'Area',\n",
    "        )\n",
    "\n",
    "taskToexport.start()"
   ]
  },
  {
   "cell_type": "code",
   "execution_count": 27,
   "metadata": {},
   "outputs": [
    {
     "data": {
      "text/plain": [
       "{'state': 'COMPLETED',\n",
       " 'description': 'Area',\n",
       " 'creation_timestamp_ms': 1616843384695,\n",
       " 'update_timestamp_ms': 1616843470241,\n",
       " 'start_timestamp_ms': 1616843460928,\n",
       " 'task_type': 'EXPORT_IMAGE',\n",
       " 'destination_uris': ['https://drive.google.com/'],\n",
       " 'attempt': 1,\n",
       " 'id': 'W3REHJYBION56WV34V4X4ZC2',\n",
       " 'name': 'projects/earthengine-legacy/operations/W3REHJYBION56WV34V4X4ZC2'}"
      ]
     },
     "execution_count": 27,
     "metadata": {},
     "output_type": "execute_result"
    }
   ],
   "source": [
    "taskToexport.status()"
   ]
  },
  {
   "cell_type": "code",
   "execution_count": 30,
   "metadata": {},
   "outputs": [
    {
     "data": {
      "application/vnd.jupyter.widget-view+json": {
       "model_id": "bb30970873d24c25b83d6e6a0f5237c4",
       "version_major": 2,
       "version_minor": 0
      },
      "text/plain": [
       "interactive(children=(Dropdown(description='Year', options=(1992, 1993, 1994, 1995, 1996, 1997, 1998, 1999, 20…"
      ]
     },
     "metadata": {},
     "output_type": "display_data"
    }
   ],
   "source": [
    "from ipywidgets import interact, interactive, fixed, interact_manual, widgets\n",
    "def lights(years):\n",
    "    arr1 = ['F101992', 'F101993', 'F121994', 'F121995', 'F121996', 'F141997', 'F141998', 'F141999', 'F152000', 'F152001', 'F152002', 'F152003', 'F162004', 'F162005', 'F162006', 'F162007', 'F162008', 'F162009', 'F182010', 'F182011', 'F182012', 'F182013']\n",
    "    arr2 = np.arange(1992, 2014)\n",
    "    year_im1 = dict(zip(arr1, arr2))\n",
    "    year_im12 = (list(year_im1.keys())[list(year_im1.values()).index(years)])\n",
    "    # set our initial map parameters for Washington, DC\n",
    "    center_lat = 39\n",
    "    center_lon = 23.5\n",
    "    zoomlevel = 6.3\n",
    "\n",
    "    # initialize our map\n",
    "    map1 = geemap.Map(center=[center_lat,center_lon], zoom=zoomlevel)\n",
    "    map1.add_basemap('Dark')\n",
    "    naip_url = 'https://services.nationalmap.gov/arcgis/services/USGSNAIPImagery/ImageServer/WMSServer?'\n",
    "    map1.add_wms_layer(url=naip_url, layers='0', name='NAIP Imagery', format='image/png', shown=True)\n",
    "    url = 'https://mt1.google.com/vt/lyrs=m&x={x}&y={y}&z={z}'\n",
    "    map1.add_tile_layer(url, name='Google Map', attribution='Google')\n",
    "    visualization_params = {min: 0, max: 10000, 'palette': [\n",
    "        'ffffcb', 'cc5500', 'cc5500'\n",
    "      ],};\n",
    "    # get 1996 composite, apply mask, and add as layer\n",
    "    dmsp = ee.Image(\"NOAA/DMSP-OLS/NIGHTTIME_LIGHTS/{}\".format(year_im12)).select('stable_lights')\n",
    "    map1.addLayer(dmsp.mask(dmsp), visualization_params, \"DMSP-OLS 1996\")\n",
    "    map1.addLayerControl()\n",
    "    display(map1)\n",
    "\n",
    "slider = widgets.Dropdown(\n",
    "    options=np.arange(1992, 2014),\n",
    "    value=1992,\n",
    "    description='Year',\n",
    "    disabled=False,\n",
    "    continuous_update=False,\n",
    "    orientation='vertical',\n",
    "    readout=True)\n",
    "\n",
    "interact(lights, years = slider);"
   ]
  },
  {
   "cell_type": "code",
   "execution_count": null,
   "metadata": {},
   "outputs": [],
   "source": []
  }
 ],
 "metadata": {
  "kernelspec": {
   "display_name": "Python 3 (ipykernel)",
   "language": "python",
   "name": "python3"
  },
  "language_info": {
   "codemirror_mode": {
    "name": "ipython",
    "version": 3
   },
   "file_extension": ".py",
   "mimetype": "text/x-python",
   "name": "python",
   "nbconvert_exporter": "python",
   "pygments_lexer": "ipython3",
   "version": "3.7.10"
  }
 },
 "nbformat": 4,
 "nbformat_minor": 2
}
