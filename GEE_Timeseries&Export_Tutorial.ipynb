{
 "cells": [
  {
   "cell_type": "markdown",
   "id": "fe992310",
   "metadata": {},
   "source": [
    "## Import required libraries"
   ]
  },
  {
   "cell_type": "markdown",
   "id": "2c3db17d",
   "metadata": {},
   "source": [
    "If <b>geemap</b> and <b>ee</b> are not installed, activate the following two lines:"
   ]
  },
  {
   "cell_type": "code",
   "execution_count": 10,
   "id": "828e91c5",
   "metadata": {},
   "outputs": [],
   "source": [
    "# ! conda install -c conda-forge earthengine-api\n",
    "# ! conda install -c conda-forge geemap"
   ]
  },
  {
   "cell_type": "code",
   "execution_count": 6,
   "id": "19225e90",
   "metadata": {},
   "outputs": [],
   "source": [
    "import ee\n",
    "import numpy as np\n",
    "import pandas as pd\n",
    "import matplotlib.pyplot as plt\n",
    "import geemap\n",
    "import os\n",
    "from IPython.display import HTML\n",
    "import time\n",
    "\n",
    "ee.Initialize()\n",
    "\n",
    "html_data = \"\"\"<img src='https://scontent.fskg1-2.fna.fbcdn.net/v/t1.15752-9/198303885_147013840714784_2198338795950191827_n.png?_nc_cat=105&ccb=1-3&_nc_sid=ae9488&_nc_ohc=f4300tM9WkwAX-XVA7q&_nc_ht=scontent.fskg1-2.fna&oh=f286b959f8a4ac4b66b80ab08ee14f63&oe=60C874D0'/><br/>\"\"\"\n",
    "html = HTML(data=html_data)"
   ]
  },
  {
   "cell_type": "markdown",
   "id": "43511a45",
   "metadata": {},
   "source": [
    "## Define the area of study"
   ]
  },
  {
   "cell_type": "markdown",
   "id": "77c5df0b",
   "metadata": {},
   "source": [
    "The instructions to define the study area are:\n",
    "1) Visit the website:\n",
    "    http://geojson.io/#map=2/20.0/0.0\n",
    "\n",
    "2) Select the area using the rectangle button (1st arrow in the image below)\n",
    "\n",
    "3) Copy the GeoJSON string at the right of the window (2nd arrow in the image below)\n",
    "\n",
    "4) Paste it at the \"geoJSON\" variable --> two cells bellow\n",
    "\n",
    "The figure bellow shows the two actions of the step (1)"
   ]
  },
  {
   "cell_type": "code",
   "execution_count": 7,
   "id": "47ed1fda",
   "metadata": {},
   "outputs": [
    {
     "data": {
      "text/html": [
       "<img src='https://scontent.fskg1-2.fna.fbcdn.net/v/t1.15752-9/198303885_147013840714784_2198338795950191827_n.png?_nc_cat=105&ccb=1-3&_nc_sid=ae9488&_nc_ohc=f4300tM9WkwAX-XVA7q&_nc_ht=scontent.fskg1-2.fna&oh=f286b959f8a4ac4b66b80ab08ee14f63&oe=60C874D0'/><br/>"
      ],
      "text/plain": [
       "<IPython.core.display.HTML object>"
      ]
     },
     "execution_count": 7,
     "metadata": {},
     "output_type": "execute_result"
    }
   ],
   "source": [
    "html"
   ]
  },
  {
   "cell_type": "markdown",
   "id": "bf2b33a3",
   "metadata": {},
   "source": [
    "## Paste the GeoJSON string below"
   ]
  },
  {
   "cell_type": "code",
   "execution_count": 8,
   "id": "486b258e",
   "metadata": {},
   "outputs": [],
   "source": [
    "geoJSON = {\n",
    "  \"type\": \"FeatureCollection\",\n",
    "  \"features\": [\n",
    "    {\n",
    "      \"type\": \"Feature\",\n",
    "      \"properties\": {},\n",
    "      \"geometry\": {\n",
    "        \"type\": \"Polygon\",\n",
    "        \"coordinates\": [\n",
    "          [\n",
    "            [\n",
    "              22.91147232055664,\n",
    "              40.72293316385307\n",
    "            ],\n",
    "            [\n",
    "              22.925033569335938,\n",
    "              40.72293316385307\n",
    "            ],\n",
    "            [\n",
    "              22.925033569335938,\n",
    "              40.73412061435751\n",
    "            ],\n",
    "            [\n",
    "              22.91147232055664,\n",
    "              40.73412061435751\n",
    "            ],\n",
    "            [\n",
    "              22.91147232055664,\n",
    "              40.72293316385307\n",
    "            ]\n",
    "          ]\n",
    "        ]\n",
    "      }\n",
    "    }\n",
    "  ]\n",
    "}\n",
    "\n",
    "coords = geoJSON['features'][0]['geometry']['coordinates']\n",
    "aoi = ee.Geometry.Polygon(coords)"
   ]
  },
  {
   "cell_type": "markdown",
   "id": "597ca6e6",
   "metadata": {},
   "source": [
    "## Function \"Sentinel 1\" to retrieve σ$^0$ between two specific dates and export to .tiff"
   ]
  },
  {
   "cell_type": "code",
   "execution_count": 21,
   "id": "8f3db312",
   "metadata": {},
   "outputs": [],
   "source": [
    "\"\"\"\n",
    "\n",
    "The Google Earth Engine database of Sentinel 1 is containing image collection. \n",
    "You can retrieve all the images between two specific dates\n",
    "\n",
    "date_start = 'yyyy/mm/dd', the starting date of the period of image collection\n",
    "date_end = 'yyyy/mm/dd', the ending date of the period of image collection\n",
    "\n",
    "export = True/False, Export all the images of the image collection. Default = True\n",
    "if export is True:\n",
    "    export_band = 'VV'/'VH', Select the band of the image collection. Default = 'VV'\n",
    "    export_scale = float, Depending on the size of the area. The larger areas the lower the scale is. Default = 1\n",
    "    \n",
    "Timeseries = True/False, Print the timeseries of 'VV' and 'VH' and the inc angle between given dates. Default = True\n",
    "\n",
    "\"\"\"\n",
    "\n",
    "def sentinel_1(date_start, date_stop, area, export = True, export_band = 'VV', export_scale = 1, timeseries = True):\n",
    "    if timeseries:\n",
    "        dataset = (ee.ImageCollection('COPERNICUS/S1_GRD')\n",
    "                            .filterBounds(area)\n",
    "                            .filterDate(ee.Date(date_start),ee.Date(date_stop))\n",
    "                            .filter(ee.Filter.eq('instrumentMode', 'IW'))\n",
    "                            .sort('system:time_start'))\n",
    "\n",
    "        acq_times = dataset.aggregate_array('system:time_start').getInfo()\n",
    "        avalaible_dates = [time.strftime('%x', time.gmtime(acq_time/1000)) for acq_time in acq_times]\n",
    "        im_list = dataset.toList(dataset.size())\n",
    "        _list = ee.List([])\n",
    "\n",
    "        def reduce_dataset_region(image, list):\n",
    "            local_image = image.reduceRegion(\n",
    "                reducer=ee.Reducer.median(),\n",
    "                geometry=area,\n",
    "                scale=10)\n",
    "            return ee.List(list).add(local_image)\n",
    "\n",
    "        reduced_dataset = dataset.iterate(reduce_dataset_region, _list)\n",
    "        reduced_dataset_dict = reduced_dataset.getInfo()\n",
    "\n",
    "        result = pd.DataFrame(reduced_dataset_dict)\n",
    "        result.index = avalaible_dates\n",
    "        result = result.dropna()\n",
    "        print(result)\n",
    "\n",
    "    if export:\n",
    "        dataset_exp = (ee.ImageCollection('COPERNICUS/S1_GRD_FLOAT')\n",
    "                        .filterBounds(area)\n",
    "                        .filterDate(ee.Date(date_start),ee.Date(date_stop))\n",
    "                        .filter(ee.Filter.eq('instrumentMode', 'IW'))\n",
    "                        .sort('system:time_start')\n",
    "                        .select(export_band))\n",
    "\n",
    "        out_dir_col = os.path.join(os.path.expanduser('~'), 'Downloads')\n",
    "        geemap.ee_export_image_collection(dataset_exp, region=area, scale=1, out_dir=out_dir_col)"
   ]
  },
  {
   "cell_type": "markdown",
   "id": "317c450b",
   "metadata": {},
   "source": [
    "## Input starting and ending date and run the function"
   ]
  },
  {
   "cell_type": "code",
   "execution_count": 22,
   "id": "8a64a569",
   "metadata": {},
   "outputs": [
    {
     "name": "stdout",
     "output_type": "stream",
     "text": [
      "                 VH        VV      angle\n",
      "01/01/20 -14.628168 -7.311737  31.042724\n",
      "01/02/20 -15.060497 -8.063595  41.837157\n",
      "01/02/20 -14.374747 -8.185926  38.153076\n"
     ]
    }
   ],
   "source": [
    "date_start = '2020-01-01'\n",
    "date_stop = '2020-01-03'\n",
    "\n",
    "sentinel_1(date_start, date_stop, aoi, export = False, export_scale = 0.5, timeseries = True)"
   ]
  },
  {
   "cell_type": "code",
   "execution_count": null,
   "id": "fb5c0197",
   "metadata": {},
   "outputs": [],
   "source": []
  }
 ],
 "metadata": {
  "kernelspec": {
   "display_name": "Python 3 (ipykernel)",
   "language": "python",
   "name": "python3"
  },
  "language_info": {
   "codemirror_mode": {
    "name": "ipython",
    "version": 3
   },
   "file_extension": ".py",
   "mimetype": "text/x-python",
   "name": "python",
   "nbconvert_exporter": "python",
   "pygments_lexer": "ipython3",
   "version": "3.7.10"
  }
 },
 "nbformat": 4,
 "nbformat_minor": 5
}
